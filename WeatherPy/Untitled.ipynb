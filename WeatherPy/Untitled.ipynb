{
 "cells": [
  {
   "cell_type": "code",
   "execution_count": 8,
   "metadata": {
    "run_control": {
     "marked": true
    }
   },
   "outputs": [],
   "source": [
    "# Import dependencies\n",
    "import matplotlib.pyplot as plt\n",
    "import pandas as pd\n",
    "import numpy as np\n",
    "import scipy.stats as st\n",
    "from scipy.stats import linregress\n",
    "from IPython.display import display\n",
    "import requests\n",
    "import json\n",
    "import os\n",
    "\n",
    "# Import citipy\n",
    "from citipy import citipy\n",
    "\n",
    "# Import API key\n",
    "from config import weather_api_key\n"
   ]
  },
  {
   "cell_type": "code",
   "execution_count": 9,
   "metadata": {},
   "outputs": [
    {
     "data": {
      "text/plain": [
       "'wrexham'"
      ]
     },
     "execution_count": 9,
     "metadata": {},
     "output_type": "execute_result"
    }
   ],
   "source": [
    "city = citipy.nearest_city(53, -3)\n",
    "city.city_name"
   ]
  },
  {
   "cell_type": "code",
   "execution_count": 10,
   "metadata": {},
   "outputs": [
    {
     "data": {
      "text/plain": [
       "'wellington'"
      ]
     },
     "execution_count": 10,
     "metadata": {},
     "output_type": "execute_result"
    }
   ],
   "source": [
    "city = citipy.nearest_city(-41.28, 174.77)\n",
    "city.city_name"
   ]
  },
  {
   "cell_type": "code",
   "execution_count": 54,
   "metadata": {},
   "outputs": [],
   "source": [
    "latitudes = np.random.uniform(-90, 90,150)"
   ]
  },
  {
   "cell_type": "code",
   "execution_count": 55,
   "metadata": {},
   "outputs": [],
   "source": [
    "longitudes = np.random.uniform(-180, 180,150)"
   ]
  },
  {
   "cell_type": "code",
   "execution_count": 56,
   "metadata": {},
   "outputs": [
    {
     "data": {
      "text/plain": [
       "array([ 12.72356693,  34.57680733,  76.10347367,  35.8604393 ,\n",
       "        16.76460821,   1.99797498,  60.63816154, -71.07480507,\n",
       "       -19.70753118, -45.10942893,  83.96334638,  -3.86158442,\n",
       "       -79.57125192,  57.60613649, -67.2806844 ,  88.03791108,\n",
       "       -45.80959803,  65.80906312,  25.65221801, -28.98123855,\n",
       "        66.31851207,  44.04161066,  36.62979068, -17.9636804 ,\n",
       "       -52.46126197, -22.07666962,  77.21628826,  10.38135226,\n",
       "       -69.26697703,  50.91092932,   1.80753536,  38.03988359,\n",
       "        78.94119616, -86.44536783,  -4.23794285, -76.27763782,\n",
       "        45.5454677 , -13.65355602,  25.07000691,  64.78400448,\n",
       "       -51.71189005,  50.58799781,   6.25630156,  47.82884459,\n",
       "       -37.59073146, -41.36176995, -14.45948076,  51.56491036,\n",
       "       -62.99585445,  77.58600707, -33.38481571,  46.1679387 ,\n",
       "        69.85531527, -59.48035816,  58.80405324,  49.75887672,\n",
       "        -1.52887169, -78.62348148,  34.32430159, -76.90534177,\n",
       "         8.18061963,  -0.40560966,   1.22825012,  81.28810912,\n",
       "        21.27805293, -47.15433431,  75.31320878, -29.67877891,\n",
       "        18.49302199, -35.62542134,  38.6763991 ,  87.23215624,\n",
       "        31.4465246 , -35.37921242,  50.29592989, -18.3610404 ,\n",
       "        19.35043173, -51.02622765, -28.55634008, -56.95132075,\n",
       "        15.02130554,  62.83978323, -43.67511178, -36.23709997,\n",
       "         8.65549511,  67.58032463,  28.86109037,  35.85204907,\n",
       "        -8.74848057,  48.06806028,  87.5389191 , -67.00719404,\n",
       "       -52.37079024,  62.58440335,  54.5563231 ,   2.21112054,\n",
       "        47.20412005,  10.83266481, -81.57973975, -68.68938737,\n",
       "         6.85944403, -56.94620812,  53.80426342, -59.04912828,\n",
       "       -81.63394369, -38.40687081, -82.50148323, -22.02395166,\n",
       "        69.7444934 ,  -8.10471968, -79.2865031 , -54.93628566,\n",
       "       -77.11890765, -53.74315047,  41.1864274 ,  83.51043434,\n",
       "        13.33534326,  -3.08156905, -82.05951866, -70.71627633,\n",
       "        84.9153891 , -11.79187131, -26.40556929,  56.90958355,\n",
       "        41.45587319,  48.98227132,  10.48897545, -73.41654496,\n",
       "        29.66624157,  14.28568067,  26.01931356, -28.51958423,\n",
       "        68.53472524, -51.49490557,  20.50448514, -46.86611738,\n",
       "        36.47588968,  32.18014346, -44.31241198, -61.08827619,\n",
       "        11.73845162,  20.9322823 ,  36.41769078, -52.67860666,\n",
       "        -8.80517266,  52.24288398, -72.59871017,  -1.45117243,\n",
       "       -78.14555238,  64.94474962])"
      ]
     },
     "execution_count": 56,
     "metadata": {},
     "output_type": "execute_result"
    }
   ],
   "source": [
    "latitudes"
   ]
  },
  {
   "cell_type": "code",
   "execution_count": 57,
   "metadata": {},
   "outputs": [
    {
     "data": {
      "text/plain": [
       "array([ 153.17194411,   52.44585126,   99.46245672,   80.79941463,\n",
       "        165.43142188, -119.32563389, -139.52919414,   97.19716422,\n",
       "         68.61864444, -149.0555519 ,   52.12928394,  -61.10816073,\n",
       "       -139.18161332,   70.198773  ,  153.67337649,  -70.60235802,\n",
       "         76.35650315,  118.95599967,   40.11903487,   48.50005818,\n",
       "        152.23579181,  -80.03819096,  -82.79857009, -140.79697044,\n",
       "        -61.81329081,   62.61549117,    7.82890808,   74.55168717,\n",
       "        134.00017729,   31.93746826,  -24.70523352,  -51.38937043,\n",
       "        149.96401183,  -19.66258029,  -28.31986639,  108.11046276,\n",
       "       -153.18072107,   -3.89864982,  103.10864325,  -12.10888548,\n",
       "          1.29849478,  -59.56921245, -170.51062072, -146.28733013,\n",
       "        -79.95589768,  -59.00089569, -113.78554281,  -51.08644861,\n",
       "       -133.84340559,  -69.05629419, -175.0150689 ,   47.72856939,\n",
       "        124.54907498,  -44.83954191,  -55.97509347,  139.66234845,\n",
       "       -118.76506593,   97.36931961,  -42.62776303,  135.93732811,\n",
       "        -25.83879657,  -58.7437869 , -158.95950569, -130.53782666,\n",
       "         29.16395055,   18.72186113,   37.20757671,  -57.14915302,\n",
       "         60.13947813,   73.87284197,  -32.19985305,  110.76869177,\n",
       "        122.86919187, -117.03510018,  176.26907981, -137.31254194,\n",
       "        132.17575429,  -29.53837658,  -61.19545949,   46.79063695,\n",
       "        -49.15855041,   19.06173789,  -77.28189884, -128.57425268,\n",
       "       -172.09810671,   -1.47842972,  -31.9701064 ,  134.69866221,\n",
       "         46.58232868, -165.94249872, -135.60588743,   -0.38153912,\n",
       "        -49.61107615, -122.31971143, -105.01222055, -164.14816427,\n",
       "        147.62208793, -162.22544367,   27.02704713,   12.67551771,\n",
       "        -86.99065958,   43.60378941,  -93.64178888, -139.77153127,\n",
       "        -28.84163223, -107.23744569,  103.70477036,  -99.21092963,\n",
       "        168.05733465,   29.05248035,  -14.54570746,  -95.87638709,\n",
       "        172.67867258,   88.78537049,  -71.28842438, -174.68658957,\n",
       "         29.73380462,  166.8572769 ,   72.63490809,  146.57285945,\n",
       "        -30.12277091,   -7.01435154,  -72.97707225,  171.21269475,\n",
       "        -26.25819913,  100.21475849,  126.07912806,  121.69434571,\n",
       "        118.95763157,   85.30545951,  -50.33147265,  -15.32047656,\n",
       "       -115.48497555, -138.05323113,  168.59070244, -164.16145455,\n",
       "       -129.10000873,   42.18613466,   38.65238032,  122.13440679,\n",
       "       -171.48553855, -176.91022145,  -52.8317775 , -126.66878542,\n",
       "        -58.18715555,   15.55124473,  -95.26817839,  112.96671014,\n",
       "        165.81598723, -124.81155655])"
      ]
     },
     "execution_count": 57,
     "metadata": {},
     "output_type": "execute_result"
    }
   ],
   "source": [
    "longitudes"
   ]
  },
  {
   "cell_type": "code",
   "execution_count": 58,
   "metadata": {
    "run_control": {
     "marked": true
    }
   },
   "outputs": [
    {
     "data": {
      "text/plain": [
       "109"
      ]
     },
     "execution_count": 58,
     "metadata": {},
     "output_type": "execute_result"
    }
   ],
   "source": [
    "cities = []\n",
    "countries = []\n",
    "for i in range(0,len(latitudes)):\n",
    "    city = citipy.nearest_city(latitudes[i], longitudes[i])\n",
    "    current_city = city.city_name.title()\n",
    "    current_country = city.country_code.upper()\n",
    "    if current_city not in cities:\n",
    "        cities.append(current_city)\n",
    "        countries.append(current_country)\n",
    "    \n",
    "    \n",
    "len(cities)"
   ]
  },
  {
   "cell_type": "code",
   "execution_count": 63,
   "metadata": {
    "run_control": {
     "marked": true
    }
   },
   "outputs": [
    {
     "name": "stdout",
     "output_type": "stream",
     "text": [
      "Beginning Data Retrieval\n",
      "-----------------------------\n",
      "Processing Record 1 of Set 1 | Kavieng, PG\n",
      "Processing Record 2 of Set 1 | Garmsar, IR\n",
      "Processing Record 3 of Set 1 | Khatanga, RU\n",
      "Processing Record 4 of Set 1 | Leh, IN\n",
      "Processing Record 5 of Set 1 | Butaritari, KI\n",
      "Processing Record 6 of Set 1 | San Patricio, MX\n",
      "Processing Record 7 of Set 1 | Haines Junction, CA\n",
      "Processing Record 8 of Set 1 | Albany, AU\n",
      "Processing Record 9 of Set 1 | Grand River South East, MU\n",
      "City not found. Skipping...\n",
      "Processing Record 10 of Set 1 | Mataura, PF\n",
      "Processing Record 11 of Set 1 | Belushya Guba, RU\n",
      "City not found. Skipping...\n",
      "Processing Record 12 of Set 1 | Anori, BR\n",
      "Processing Record 13 of Set 1 | Rikitea, PF\n",
      "Processing Record 14 of Set 1 | Vikulovo, RU\n",
      "Processing Record 15 of Set 1 | Hobart, AU\n",
      "Processing Record 16 of Set 1 | Qaanaaq, GL\n",
      "Processing Record 17 of Set 1 | Mahebourg, MU\n",
      "Processing Record 18 of Set 1 | Nyurba, RU\n",
      "Processing Record 19 of Set 1 | Umm Lajj, SA\n",
      "Processing Record 20 of Set 1 | Taolanaro, MG\n",
      "City not found. Skipping...\n",
      "Processing Record 21 of Set 1 | Zyryanka, RU\n",
      "Processing Record 22 of Set 1 | Orangeville, CA\n",
      "Processing Record 23 of Set 1 | Kingsport, US\n",
      "Processing Record 24 of Set 1 | Ushuaia, AR\n",
      "Processing Record 25 of Set 1 | Bambous Virieux, MU\n",
      "Processing Record 26 of Set 1 | Barentsburg, SJ\n",
      "City not found. Skipping...\n",
      "Processing Record 27 of Set 1 | Ponnani, IN\n",
      "Processing Record 28 of Set 1 | New Norfolk, AU\n",
      "Processing Record 29 of Set 1 | Talalayivka, UA\n",
      "Processing Record 30 of Set 1 | Touros, BR\n",
      "Processing Record 31 of Set 1 | Torbay, CA\n",
      "Processing Record 32 of Set 1 | Chokurdakh, RU\n",
      "Processing Record 33 of Set 1 | Nisia Floresta, BR\n",
      "Processing Record 34 of Set 1 | Kodiak, US\n",
      "Processing Record 35 of Set 1 | Jamestown, SH\n",
      "Processing Record 36 of Set 1 | Kunming, CN\n",
      "Processing Record 37 of Set 1 | Hofn, IS\n",
      "Processing Record 38 of Set 1 | Cape Town, ZA\n",
      "Processing Record 39 of Set 1 | Saint-Augustin, CA\n",
      "Processing Record 40 of Set 1 | Kapaa, US\n",
      "Processing Record 41 of Set 1 | Lebu, CL\n",
      "Processing Record 42 of Set 1 | Necochea, AR\n",
      "Processing Record 43 of Set 1 | Bonavista, CA\n",
      "Processing Record 44 of Set 1 | Vaini, TO\n",
      "Processing Record 45 of Set 1 | Ikryanoye, RU\n",
      "Processing Record 46 of Set 1 | Zhigansk, RU\n",
      "Processing Record 47 of Set 1 | Nuuk, GL\n",
      "Processing Record 48 of Set 1 | Vysokogornyy, RU\n",
      "Processing Record 49 of Set 1 | Atuona, PF\n",
      "Processing Record 50 of Set 1 | Ribeira Grande, PT\n",
      "Processing Record 1 of Set 2 | Sao Filipe, CV\n",
      "Processing Record 2 of Set 2 | Urucara, BR\n",
      "Processing Record 3 of Set 2 | Hilo, US\n",
      "Processing Record 4 of Set 2 | Tuktoyaktuk, CA\n",
      "Processing Record 5 of Set 2 | Marawi, SD\n",
      "Processing Record 6 of Set 2 | Bredasdorp, ZA\n",
      "Processing Record 7 of Set 2 | Tumannyy, RU\n",
      "City not found. Skipping...\n",
      "Processing Record 8 of Set 2 | Uruguaiana, BR\n",
      "Processing Record 9 of Set 2 | Sur, OM\n",
      "Processing Record 10 of Set 2 | Saskylakh, RU\n",
      "Processing Record 11 of Set 2 | Huilong, CN\n",
      "Processing Record 12 of Set 2 | Nikolskoye, RU\n",
      "Processing Record 13 of Set 2 | Itoman, JP\n",
      "Processing Record 14 of Set 2 | Cidreira, BR\n",
      "Processing Record 15 of Set 2 | Reconquista, AR\n",
      "Processing Record 16 of Set 2 | East London, ZA\n",
      "Processing Record 17 of Set 2 | Sinnamary, GF\n",
      "Processing Record 18 of Set 2 | Ornskoldsvik, SE\n",
      "Processing Record 19 of Set 2 | Castro, CL\n",
      "Processing Record 20 of Set 2 | Brae, GB\n",
      "Processing Record 21 of Set 2 | Toyooka, JP\n",
      "Processing Record 22 of Set 2 | Mutsamudu, KM\n",
      "City not found. Skipping...\n",
      "Processing Record 23 of Set 2 | Bethel, US\n",
      "Processing Record 24 of Set 2 | Hermanus, ZA\n",
      "Processing Record 25 of Set 2 | Mar Del Plata, AR\n",
      "Processing Record 26 of Set 2 | Fort Nelson, CA\n",
      "Processing Record 27 of Set 2 | La Ronge, CA\n",
      "Processing Record 28 of Set 2 | Samalaeulu, WS\n",
      "City not found. Skipping...\n",
      "Processing Record 29 of Set 2 | Kurilsk, RU\n",
      "Processing Record 30 of Set 2 | Ewa Beach, US\n",
      "Processing Record 31 of Set 2 | Nicoya, CR\n",
      "Processing Record 32 of Set 2 | Sioux Lookout, CA\n",
      "Processing Record 33 of Set 2 | Puerto Ayora, EC\n",
      "Processing Record 34 of Set 2 | Pevek, RU\n",
      "Processing Record 35 of Set 2 | Kaputa, ZM\n",
      "Processing Record 36 of Set 2 | Punta Arenas, CL\n",
      "Processing Record 37 of Set 2 | Bluff, NZ\n",
      "Processing Record 38 of Set 2 | Busselton, AU\n",
      "Processing Record 39 of Set 2 | Newport, US\n",
      "Processing Record 40 of Set 2 | Mys Shmidta, RU\n",
      "City not found. Skipping...\n",
      "Processing Record 41 of Set 2 | Bara, SD\n",
      "Processing Record 42 of Set 2 | Tabiauea, KI\n",
      "City not found. Skipping...\n",
      "Processing Record 43 of Set 2 | Illoqqortoormiut, GL\n",
      "City not found. Skipping...\n",
      "Processing Record 44 of Set 2 | Taltal, CL\n",
      "Processing Record 45 of Set 2 | Praia Da Vitoria, PT\n",
      "Processing Record 46 of Set 2 | Moron, MN\n",
      "Processing Record 47 of Set 2 | Sapao, PH\n",
      "City not found. Skipping...\n",
      "Processing Record 48 of Set 2 | Tunxi, CN\n",
      "City not found. Skipping...\n",
      "Processing Record 49 of Set 2 | Yarada, IN\n",
      "Processing Record 50 of Set 2 | Codrington, AG\n",
      "Processing Record 1 of Set 3 | Yellowknife, CA\n",
      "Processing Record 2 of Set 3 | Avarua, CK\n",
      "Processing Record 3 of Set 3 | Fortuna, US\n",
      "Processing Record 4 of Set 3 | Hit, IQ\n",
      "Processing Record 5 of Set 3 | Saint-Pierre, PM\n",
      "Processing Record 6 of Set 3 | Aripuana, BR\n",
      "Processing Record 7 of Set 3 | Sulechow, PL\n",
      "Processing Record 8 of Set 3 | Sampit, ID\n",
      "Processing Record 9 of Set 3 | Norman Wells, CA\n",
      "Cities not found = 12\n"
     ]
    },
    {
     "data": {
      "text/html": [
       "<div>\n",
       "<style scoped>\n",
       "    .dataframe tbody tr th:only-of-type {\n",
       "        vertical-align: middle;\n",
       "    }\n",
       "\n",
       "    .dataframe tbody tr th {\n",
       "        vertical-align: top;\n",
       "    }\n",
       "\n",
       "    .dataframe thead th {\n",
       "        text-align: right;\n",
       "    }\n",
       "</style>\n",
       "<table border=\"1\" class=\"dataframe\">\n",
       "  <thead>\n",
       "    <tr style=\"text-align: right;\">\n",
       "      <th></th>\n",
       "      <th>City</th>\n",
       "      <th>Lat</th>\n",
       "      <th>Lng</th>\n",
       "      <th>Max Temp</th>\n",
       "      <th>Humidity</th>\n",
       "      <th>Cloudiness</th>\n",
       "      <th>Wind Speed</th>\n",
       "      <th>Country</th>\n",
       "    </tr>\n",
       "  </thead>\n",
       "  <tbody>\n",
       "    <tr>\n",
       "      <th>0</th>\n",
       "      <td>Kavieng</td>\n",
       "      <td>-2.57</td>\n",
       "      <td>150.80</td>\n",
       "      <td>83.66</td>\n",
       "      <td>71</td>\n",
       "      <td>100</td>\n",
       "      <td>6.69</td>\n",
       "      <td>PG</td>\n",
       "    </tr>\n",
       "    <tr>\n",
       "      <th>1</th>\n",
       "      <td>Garmsar</td>\n",
       "      <td>35.22</td>\n",
       "      <td>52.34</td>\n",
       "      <td>52.95</td>\n",
       "      <td>34</td>\n",
       "      <td>0</td>\n",
       "      <td>2.01</td>\n",
       "      <td>IR</td>\n",
       "    </tr>\n",
       "    <tr>\n",
       "      <th>2</th>\n",
       "      <td>Khatanga</td>\n",
       "      <td>71.97</td>\n",
       "      <td>102.50</td>\n",
       "      <td>3.90</td>\n",
       "      <td>90</td>\n",
       "      <td>15</td>\n",
       "      <td>8.14</td>\n",
       "      <td>RU</td>\n",
       "    </tr>\n",
       "    <tr>\n",
       "      <th>3</th>\n",
       "      <td>Leh</td>\n",
       "      <td>34.17</td>\n",
       "      <td>77.58</td>\n",
       "      <td>35.10</td>\n",
       "      <td>64</td>\n",
       "      <td>0</td>\n",
       "      <td>3.58</td>\n",
       "      <td>IN</td>\n",
       "    </tr>\n",
       "    <tr>\n",
       "      <th>4</th>\n",
       "      <td>Butaritari</td>\n",
       "      <td>3.07</td>\n",
       "      <td>172.79</td>\n",
       "      <td>82.58</td>\n",
       "      <td>78</td>\n",
       "      <td>13</td>\n",
       "      <td>21.07</td>\n",
       "      <td>KI</td>\n",
       "    </tr>\n",
       "    <tr>\n",
       "      <th>...</th>\n",
       "      <td>...</td>\n",
       "      <td>...</td>\n",
       "      <td>...</td>\n",
       "      <td>...</td>\n",
       "      <td>...</td>\n",
       "      <td>...</td>\n",
       "      <td>...</td>\n",
       "      <td>...</td>\n",
       "    </tr>\n",
       "    <tr>\n",
       "      <th>92</th>\n",
       "      <td>Saint-Pierre</td>\n",
       "      <td>-21.34</td>\n",
       "      <td>55.48</td>\n",
       "      <td>69.80</td>\n",
       "      <td>68</td>\n",
       "      <td>6</td>\n",
       "      <td>3.36</td>\n",
       "      <td>PM</td>\n",
       "    </tr>\n",
       "    <tr>\n",
       "      <th>93</th>\n",
       "      <td>Aripuana</td>\n",
       "      <td>-9.17</td>\n",
       "      <td>-60.63</td>\n",
       "      <td>82.83</td>\n",
       "      <td>55</td>\n",
       "      <td>63</td>\n",
       "      <td>1.57</td>\n",
       "      <td>BR</td>\n",
       "    </tr>\n",
       "    <tr>\n",
       "      <th>94</th>\n",
       "      <td>Sulechow</td>\n",
       "      <td>52.08</td>\n",
       "      <td>15.63</td>\n",
       "      <td>45.00</td>\n",
       "      <td>42</td>\n",
       "      <td>93</td>\n",
       "      <td>7.85</td>\n",
       "      <td>PL</td>\n",
       "    </tr>\n",
       "    <tr>\n",
       "      <th>95</th>\n",
       "      <td>Sampit</td>\n",
       "      <td>-2.53</td>\n",
       "      <td>112.95</td>\n",
       "      <td>74.57</td>\n",
       "      <td>94</td>\n",
       "      <td>96</td>\n",
       "      <td>2.37</td>\n",
       "      <td>ID</td>\n",
       "    </tr>\n",
       "    <tr>\n",
       "      <th>96</th>\n",
       "      <td>Norman Wells</td>\n",
       "      <td>65.28</td>\n",
       "      <td>-126.83</td>\n",
       "      <td>23.00</td>\n",
       "      <td>57</td>\n",
       "      <td>5</td>\n",
       "      <td>10.29</td>\n",
       "      <td>CA</td>\n",
       "    </tr>\n",
       "  </tbody>\n",
       "</table>\n",
       "<p>97 rows × 8 columns</p>\n",
       "</div>"
      ],
      "text/plain": [
       "            City    Lat     Lng  Max Temp  Humidity  Cloudiness  Wind Speed  \\\n",
       "0        Kavieng  -2.57  150.80     83.66        71         100        6.69   \n",
       "1        Garmsar  35.22   52.34     52.95        34           0        2.01   \n",
       "2       Khatanga  71.97  102.50      3.90        90          15        8.14   \n",
       "3            Leh  34.17   77.58     35.10        64           0        3.58   \n",
       "4     Butaritari   3.07  172.79     82.58        78          13       21.07   \n",
       "..           ...    ...     ...       ...       ...         ...         ...   \n",
       "92  Saint-Pierre -21.34   55.48     69.80        68           6        3.36   \n",
       "93      Aripuana  -9.17  -60.63     82.83        55          63        1.57   \n",
       "94      Sulechow  52.08   15.63     45.00        42          93        7.85   \n",
       "95        Sampit  -2.53  112.95     74.57        94          96        2.37   \n",
       "96  Norman Wells  65.28 -126.83     23.00        57           5       10.29   \n",
       "\n",
       "   Country  \n",
       "0       PG  \n",
       "1       IR  \n",
       "2       RU  \n",
       "3       IN  \n",
       "4       KI  \n",
       "..     ...  \n",
       "92      PM  \n",
       "93      BR  \n",
       "94      PL  \n",
       "95      ID  \n",
       "96      CA  \n",
       "\n",
       "[97 rows x 8 columns]"
      ]
     },
     "metadata": {},
     "output_type": "display_data"
    }
   ],
   "source": [
    "city_index = 0\n",
    "city_set_index = 0\n",
    "cities_not_found = 0\n",
    "city_sets = [cities[i:i + 50] for i in range(0, len(cities), 50)]\n",
    "country_sets = [countries[i:i + 50] for i in range(0, len(countries), 50)] \n",
    "\n",
    "longitude_all = []\n",
    "latitude_all = []\n",
    "temperature_max_all = []\n",
    "humidity_all = []\n",
    "cloudiness_all = []\n",
    "wind_speed_all = []\n",
    "date_all = []\n",
    "\n",
    "city_all = []\n",
    "country_all = []\n",
    "\n",
    "print(\"Beginning Data Retrieval\")     \n",
    "print(\"-----------------------------\")\n",
    "url = \"http://api.openweathermap.org/data/2.5/weather?\"\n",
    "units = \"imperial\"\n",
    "query_url = f\"{url}appid={weather_api_key}&units={units}&q=\"\n",
    "\n",
    "for city_set in city_sets:\n",
    "    city_index = 0\n",
    "    for city in city_set:\n",
    "        print(f\"Processing Record {city_index+1} of Set {city_set_index+1} | {city}, {country_sets[city_set_index][city_index]}\")\n",
    "        # response = requests.get(query_url + city + \",\" + countries[i]).json()\n",
    "        response = requests.get(query_url + city).json()\n",
    "        try:\n",
    "            longitude = response[\"coord\"][\"lon\"]\n",
    "            latitude = response[\"coord\"][\"lat\"]\n",
    "            temperature_max_F = response[\"main\"][\"temp_max\"]\n",
    "            humidity = response[\"main\"][\"humidity\"]\n",
    "            cloudiness = response[\"clouds\"][\"all\"]\n",
    "            wind_speed = response[\"wind\"][\"speed\"]\n",
    "            date = response[\"dt\"]\n",
    "            \n",
    "            longitude_all.append(longitude)\n",
    "            latitude_all.append(latitude)\n",
    "            temperature_max_all.append(temperature_max_F)\n",
    "            humidity_all.append(humidity)\n",
    "            cloudiness_all.append(cloudiness)\n",
    "            wind_speed_all.append(wind_speed)\n",
    "            date_all.append(date)\n",
    "            \n",
    "            city_all.append(city)\n",
    "            country_all.append(country_sets[city_set_index][city_index])\n",
    "            \n",
    "        except:\n",
    "            print(f\"City not found. Skipping...\")\n",
    "            cities_not_found = cities_not_found + 1\n",
    "            pass\n",
    "        city_index = city_index + 1\n",
    "    city_set_index = city_set_index + 1\n",
    "                           \n",
    "print(f\"Cities not found = {cities_not_found}\")\n",
    "\n",
    "weather_data_all = pd.DataFrame({\n",
    "                                    \"City\" : city_all,\n",
    "                                    \"Lat\" : latitude_all,\n",
    "                                    \"Lng\" : longitude_all,\n",
    "                                    \"Max Temp\" : temperature_max_all,\n",
    "                                    \"Humidity\" : humidity_all,\n",
    "                                    \"Cloudiness\" : cloudiness_all,\n",
    "                                    \"Wind Speed\" : wind_speed_all,\n",
    "                                    \"Country\" : country_all\n",
    "                                })\n",
    "display(weather_data_all)\n",
    "weather_data_all.to_csv(\"../output_data/cities.csv\")\n"
   ]
  },
  {
   "cell_type": "code",
   "execution_count": 67,
   "metadata": {},
   "outputs": [],
   "source": [
    "weather_data_all.to_csv(\"output_data/cities.csv\")"
   ]
  },
  {
   "cell_type": "code",
   "execution_count": 68,
   "metadata": {
    "run_control": {
     "marked": true
    }
   },
   "outputs": [
    {
     "data": {
      "text/html": [
       "<div>\n",
       "<style scoped>\n",
       "    .dataframe tbody tr th:only-of-type {\n",
       "        vertical-align: middle;\n",
       "    }\n",
       "\n",
       "    .dataframe tbody tr th {\n",
       "        vertical-align: top;\n",
       "    }\n",
       "\n",
       "    .dataframe thead th {\n",
       "        text-align: right;\n",
       "    }\n",
       "</style>\n",
       "<table border=\"1\" class=\"dataframe\">\n",
       "  <thead>\n",
       "    <tr style=\"text-align: right;\">\n",
       "      <th></th>\n",
       "      <th>Lat</th>\n",
       "      <th>Lng</th>\n",
       "      <th>Max Temp</th>\n",
       "      <th>Humidity</th>\n",
       "      <th>Cloudiness</th>\n",
       "      <th>Wind Speed</th>\n",
       "    </tr>\n",
       "  </thead>\n",
       "  <tbody>\n",
       "    <tr>\n",
       "      <th>count</th>\n",
       "      <td>97.000000</td>\n",
       "      <td>97.000000</td>\n",
       "      <td>97.000000</td>\n",
       "      <td>97.000000</td>\n",
       "      <td>97.000000</td>\n",
       "      <td>97.000000</td>\n",
       "    </tr>\n",
       "    <tr>\n",
       "      <th>mean</th>\n",
       "      <td>17.047835</td>\n",
       "      <td>-1.282680</td>\n",
       "      <td>57.068454</td>\n",
       "      <td>74.690722</td>\n",
       "      <td>53.979381</td>\n",
       "      <td>8.348557</td>\n",
       "    </tr>\n",
       "    <tr>\n",
       "      <th>std</th>\n",
       "      <td>38.527500</td>\n",
       "      <td>98.535832</td>\n",
       "      <td>20.833168</td>\n",
       "      <td>16.442679</td>\n",
       "      <td>38.664416</td>\n",
       "      <td>5.037899</td>\n",
       "    </tr>\n",
       "    <tr>\n",
       "      <th>min</th>\n",
       "      <td>-54.800000</td>\n",
       "      <td>-175.200000</td>\n",
       "      <td>3.900000</td>\n",
       "      <td>28.000000</td>\n",
       "      <td>0.000000</td>\n",
       "      <td>1.010000</td>\n",
       "    </tr>\n",
       "    <tr>\n",
       "      <th>25%</th>\n",
       "      <td>-21.200000</td>\n",
       "      <td>-73.410000</td>\n",
       "      <td>44.600000</td>\n",
       "      <td>67.000000</td>\n",
       "      <td>16.000000</td>\n",
       "      <td>4.700000</td>\n",
       "    </tr>\n",
       "    <tr>\n",
       "      <th>50%</th>\n",
       "      <td>22.570000</td>\n",
       "      <td>-24.500000</td>\n",
       "      <td>55.400000</td>\n",
       "      <td>78.000000</td>\n",
       "      <td>65.000000</td>\n",
       "      <td>7.000000</td>\n",
       "    </tr>\n",
       "    <tr>\n",
       "      <th>75%</th>\n",
       "      <td>50.960000</td>\n",
       "      <td>77.580000</td>\n",
       "      <td>75.990000</td>\n",
       "      <td>86.000000</td>\n",
       "      <td>90.000000</td>\n",
       "      <td>11.410000</td>\n",
       "    </tr>\n",
       "    <tr>\n",
       "      <th>max</th>\n",
       "      <td>77.480000</td>\n",
       "      <td>172.790000</td>\n",
       "      <td>89.600000</td>\n",
       "      <td>100.000000</td>\n",
       "      <td>100.000000</td>\n",
       "      <td>21.070000</td>\n",
       "    </tr>\n",
       "  </tbody>\n",
       "</table>\n",
       "</div>"
      ],
      "text/plain": [
       "             Lat         Lng   Max Temp    Humidity  Cloudiness  Wind Speed\n",
       "count  97.000000   97.000000  97.000000   97.000000   97.000000   97.000000\n",
       "mean   17.047835   -1.282680  57.068454   74.690722   53.979381    8.348557\n",
       "std    38.527500   98.535832  20.833168   16.442679   38.664416    5.037899\n",
       "min   -54.800000 -175.200000   3.900000   28.000000    0.000000    1.010000\n",
       "25%   -21.200000  -73.410000  44.600000   67.000000   16.000000    4.700000\n",
       "50%    22.570000  -24.500000  55.400000   78.000000   65.000000    7.000000\n",
       "75%    50.960000   77.580000  75.990000   86.000000   90.000000   11.410000\n",
       "max    77.480000  172.790000  89.600000  100.000000  100.000000   21.070000"
      ]
     },
     "execution_count": 68,
     "metadata": {},
     "output_type": "execute_result"
    }
   ],
   "source": [
    "summary_weather_statistics = weather_data_all.describe()\n",
    "summary_weather_statistics"
   ]
  },
  {
   "cell_type": "code",
   "execution_count": 29,
   "metadata": {
    "run_control": {
     "marked": true
    }
   },
   "outputs": [
    {
     "data": {
      "text/plain": [
       "[[1, 2], [3, 4], [5, 6], [7, 8], [9, 10]]"
      ]
     },
     "execution_count": 29,
     "metadata": {},
     "output_type": "execute_result"
    }
   ],
   "source": [
    "A = [[1,2],[3,4],[5,6],[7,8],[9,10]]\n",
    "A"
   ]
  },
  {
   "cell_type": "code",
   "execution_count": 30,
   "metadata": {},
   "outputs": [
    {
     "data": {
      "text/plain": [
       "[3, 4]"
      ]
     },
     "execution_count": 30,
     "metadata": {},
     "output_type": "execute_result"
    }
   ],
   "source": [
    "A[1]"
   ]
  },
  {
   "cell_type": "code",
   "execution_count": 31,
   "metadata": {},
   "outputs": [
    {
     "data": {
      "text/plain": [
       "5"
      ]
     },
     "execution_count": 31,
     "metadata": {},
     "output_type": "execute_result"
    }
   ],
   "source": [
    "len(A)"
   ]
  },
  {
   "cell_type": "code",
   "execution_count": 36,
   "metadata": {},
   "outputs": [],
   "source": [
    "B=A[1:3]"
   ]
  },
  {
   "cell_type": "code",
   "execution_count": 37,
   "metadata": {},
   "outputs": [
    {
     "data": {
      "text/plain": [
       "[[3, 4], [5, 6]]"
      ]
     },
     "execution_count": 37,
     "metadata": {},
     "output_type": "execute_result"
    }
   ],
   "source": [
    "B"
   ]
  },
  {
   "cell_type": "code",
   "execution_count": 43,
   "metadata": {
    "run_control": {
     "marked": true
    }
   },
   "outputs": [
    {
     "name": "stdout",
     "output_type": "stream",
     "text": [
      "['Trairi', 'Mahajanga', 'Port Elizabeth', 'Albany', 'Vestmannaeyjar', 'Ushuaia', 'Krasnoselkup', 'Butaritari', 'Komsomolskiy', 'Hilo', 'Jujuy', 'Atuona', 'Nacajuca', 'Bolshiye Uki', 'Hobart', 'Avarua', 'Port Alfred', 'Griffith', 'Grand River South East', 'Arman', 'Barrow', 'Turtkul', 'Tessalit', 'Hami', 'Tuatapere', 'Evanston', 'Rikitea', 'Pevek', 'Kuche', 'Punta Arenas', 'Matara', 'Moose Factory', 'Sioux Lookout', 'Severo-Kurilsk', 'Norman Wells', 'Thessalon', 'Illoqqortoormiut', 'Mirnyy', 'Mount Gambier', 'Mandali', 'Kyshtovka', 'Ibra', 'Taolanaro', 'Qaanaaq', 'Caravelas', 'Balabac', 'Yellowknife', 'Jamestown', 'Havre', 'Vaini']\n",
      "['Hermanus', 'Havre-Saint-Pierre', 'Morondava', 'East London', 'Georgetown', 'Alofi', 'Thompson', 'Emerald', 'Kawalu', 'Kodiak', 'Kapaa', 'Amderma', 'Harper', 'Christchurch', 'Bonavista', 'Klokkarvik', 'Tasiilaq', 'Cockburn Town', 'Makurdi', 'Rungata', 'Chalon-Sur-Saone', 'Takoradi', 'Alta Floresta', 'Diffa', 'Kamenskoye', 'Hithadhoo', 'Castro', 'Tahta', 'Arraial Do Cabo', 'Naze', 'Nikolskoye', 'Mataura', 'Balikpapan', 'Yar-Sale', 'Busselton', 'Sentyabrskiy', 'Isabela', 'Puerto Ayora', 'Lukovetskiy', 'Ndele', 'Avera', 'Tura', 'Bluff', 'Bredasdorp', 'Timbiqui', 'Pedernales', 'Goderich', 'Mys Shmidta', 'Saskylakh', 'Haines Junction']\n",
      "['Whyalla', 'Sao Joao Da Barra', 'Marsh Harbour', 'Sitka', 'Acapulco', 'Victoria', 'Nizhneyansk', 'Mayumba', 'Saldanha', 'Wattegama', 'Mar Del Plata', 'Provideniya', 'Tuggurt', 'Batetskiy', 'Srandakan', 'Ambilobe', 'La Ronge', 'Belaya Gora', 'Paramonga', 'Taunggyi', 'Cabo San Lucas', 'Gilgit', 'Santa Rosalia', 'Touros', 'Lagoa', 'Cape Town', 'Honiara', 'El Prat De Llobregat', 'Along', 'Margate', 'Xam Nua', 'Belushya Guba', 'Dikson', 'Samusu', 'Karlshamn', 'Bilma', 'Codrington', 'Ilulissat', 'Capinzal', 'Mildura', 'Comodoro Rivadavia', 'Aquiraz', 'Quzhou', 'Buchanan', 'Taoudenni', 'Carnarvon', 'Ribeira Grande', 'Hunza', 'Ponta Do Sol', 'Rawannawi']\n",
      "['Pangnirtung', 'Tupik', 'Torbay', 'Bethel', 'Hokitika', 'Vaitupu', 'Chagda', 'Chastoozerye', 'Wexford', 'Waw', 'Half Moon Bay', 'Ixtapa', 'Warri', 'Gangotri', 'Rantepao', 'Hobyo', 'Kahului', 'Tukrah', 'Arkadelphia', 'Warqla', 'Mezen', 'Raga', 'Salalah', 'Humaita', 'Bundoran', 'Arriaga', 'Topolovgrad', 'Northam', 'Labuhan', 'Lebu', 'Rawah', 'Sept-Iles', 'Ouahigouya', 'Honningsvag', 'San Cristobal', 'Bairiki', 'Vila Velha', 'Nhulunbuy', 'Koutiala', 'Sao Filipe', 'College', 'Manavalakurichi', 'Upernavik', 'Nyazepetrovsk', 'Orlik', 'Chuy', 'Pokhara', 'Elesbao Veloso', 'Fairbanks', 'Hasaki']\n",
      "['Nouadhibou', 'Luderitz', 'Gigmoto', 'Ostersund', 'Cocoa Beach', 'Opuwo', 'Khatanga', 'Mercedes', 'Dicabisagan', 'Okato', 'Shatrovo', 'Akureyri', 'Tiksi', 'Saint George', 'Churapcha', 'Jiuquan', 'Cherskiy', 'Fortuna', 'Daye', 'Bulgan', 'Vila Franca Do Campo', 'Belmonte', 'Zheleznodorozhnyy', 'Port Hawkesbury', 'Nishihara', 'Teguise', 'Grand Gaube', 'Esperance', 'Whitehorse', 'Attawapiskat', 'Tuktoyaktuk', 'Marsaxlokk', 'Iglas', 'Mayo', 'Beringovskiy', 'Tiarei', 'Bengkulu', 'Iqaluit', 'Katsuura', 'Khorixas', 'Dehloran', 'Tunduru', 'Moron', 'Lompoc', 'Aksarka', 'Keuruu', 'Mullaitivu', 'Cidreira', 'Mao', 'Limbe']\n",
      "['Burmakino', 'Funtua', 'Chumikan', 'Taiyuan', 'Klyuchevskiy', 'Iwaki', 'Conceicao Do Araguaia', 'Verkhnevilyuysk', 'Hof', 'Senneterre', 'Morehead', 'Laguna', 'Bodaybo', 'Leningradskiy', 'Chokurdakh', 'Mahon', 'Ahipara', 'Auki', 'Irbit', 'Nova Venecia', 'Payo', 'Sringeri', 'Yoichi', 'Awjilah', 'Ajdabiya', 'Longyearbyen', 'Ancud', 'Tsihombe', 'Borama', 'Atar', 'Saleaula', 'Tall Kayf', 'Gobabis', 'Abalak', 'Souillac', 'Vagay', 'Pringsewu', 'Reconquista', 'Aklavik', 'Airai', 'Bichura', 'Semirom', 'Abu Kamal', 'Lima', 'Umzimvubu', 'Burnie', 'Kaihua', 'Port Blair', 'Kavieng', 'Rundu']\n",
      "['Coquimbo', 'Polyarnyy', 'Alice Springs', 'Nuuk', 'Bathsheba', 'Saint-Philippe', 'New Norfolk', 'Port Hardy', 'Inhambane', 'Sola', 'Namatanai', 'Narsaq', 'Roma', 'Saryshagan', 'Kaitangata', 'Sambava', 'Nador', 'Te Anau', 'Kegums', 'Matamoros', 'Liniere', 'Peace River', 'Namtsy', 'Geraldton', 'Ostrovnoy', 'Derzhavinsk', 'Karauzyak', 'Barentsburg', 'Treinta Y Tres', 'Tual', 'Constitucion', 'Okhotsk', 'Husavik', 'Sfantu Gheorghe', 'Nanortalik', 'Poum', 'Ust-Koksa', 'Muli', 'Port Lincoln', 'Karratha', 'Kattivakkam', 'Chiredzi', 'Anadyr', 'Sorvag', 'Alindao', 'Englehart', 'Zhob', 'Hualmay', 'Beidao', 'Kijang']\n",
      "['Marcona', 'Naron', 'Carballo', 'Kayunga', 'Darlowo', 'Gat', 'Bandarbeyla', 'North Bend', 'Boulsa', 'Maarianhamina', 'Kudahuvadhoo', 'Ilo', 'Lasa', 'Vila', 'Rafsanjan', 'Kasli', 'North Myrtle Beach', 'Arlit', 'Baruun-Urt', 'Kruisfontein', 'Cap Malheureux', 'Harstad', 'Bambous Virieux', 'Makakilo City', 'Sao Gabriel Da Cachoeira', 'Tilichiki', 'Kegayli', 'Samalaeulu', 'Kharp', 'Puerto Del Rosario', 'Coro', 'Miraflores', 'Porto-Vecchio', 'Nago', 'Posse', 'Cayenne', 'Fort Saint James', 'Oussouye', 'Yelovo', 'Barra', 'Tabuk', 'Osoyoos', 'Bud', 'Guapore', 'Jiddah', 'Kismayo', 'Santa Isabel Do Rio Negro', 'Carbonia', 'Hun', 'Kargasok']\n",
      "['Flin Flon', 'Rawson', 'Berlevag', 'Jacksonville', 'Vadinsk', 'Faanui', 'Trelew', 'Paamiut', 'Lorengau', 'Boali', 'Candido Mendes', 'Marawi', 'Klaksvik', 'Nome', 'Onalaska', 'Ponta Delgada', 'Roald', 'Itamarandiba', 'Linhares', 'Azimur', 'Xai-Xai', 'Uyuni', 'Nizhniy Ingash', 'Ottobrunn', 'Mahebourg', 'Quebec', 'Sibolga', 'Echirolles', 'Ondangwa', 'Vostok', 'Westport', 'Pimenteiras', 'Eyl', 'Tottori', 'Nicoya', 'Nanzhou', 'Pisco', 'Privas', 'Egvekinot', 'Yumen', 'Bria', 'Adrar', 'Waipawa', 'Tarauaca', 'Port Hedland', 'Pahrump', 'Padang', 'Sawakin', 'Havoysund', 'Richards Bay']\n",
      "['Drayton Valley', 'Nicolas Bravo', 'Dudinka', 'Scarborough', 'Fredericton', 'Santa Barbara', 'Gampola', 'Mazyr', 'Nioki', 'Karatu', 'Corralillo', 'Akaltara', 'Challapata', 'Gumushane', 'Road Town', 'Teknaf', 'Sisimiut', 'Letka', 'Ende', 'Evensk', 'Belem De Sao Francisco', 'Smirnykh', 'Manggar', 'Barcelos', 'Kolo', 'Haibowan', 'Zhezkazgan', 'Clyde River', 'Necochea', 'Tomatlan', 'Faya', 'Kathmandu', 'Gardan Diwal', 'Wanaka', 'Shasta Lake', 'Valenca Do Piaui', 'Xingcheng', 'Isla Mujeres', 'Mubi', 'Arroyo', 'Bayir', 'Kumphawapi', 'Kloulklubed', 'Nambucca Heads', 'Guanica', 'Puerto Leguizamo', 'Karamea', 'Lahij', 'Bowen', 'Mongo']\n",
      "['Tapes', 'Hirara', 'Yamada', 'Hovd', 'Kaposmero', 'Tondano', 'Toyooka', 'Conde', 'Dekar', 'Shimoda', 'Port Augusta', 'Saint-Joseph', 'Save', 'Healesville', 'Punta Umbria', 'Sotouboua', 'Mormugao', 'Yuzhno-Kurilsk', 'Ushumun', 'Poddorye', 'Joshimath', 'Sokolo', 'Ketchikan', 'Waingapu', 'Requena', 'Fengrun', 'Provost', 'Srednekolymsk', 'Dali', 'Julana', 'Vitim', 'Zempoala', 'Almaznyy', 'Luganville', 'Mamallapuram', 'Mocambique', 'Lubao', 'Togur', 'Deputatskiy', 'Tigzirt', 'Peterhead', 'Nova Olinda Do Norte', 'Cotoca', 'Sibu', 'Tautira', 'Lanzhou', 'Mykolayivka', 'Goundam', 'Huarmey', 'Sorland']\n",
      "['Tawau', 'Ardistan', 'Carora', 'Katobu', 'Taltal', 'San Patricio', 'Lentekhi', 'Bose', 'Waterford', 'Bintulu', 'Muisne', 'Tateyama', 'Saint-Pierre', 'Pavino', 'Ngukurr', 'Broome', 'Vasteras', 'Bull Savanna', 'Phan Thiet', 'Scottsburgh', 'Boyuibe', 'Banugao', 'Mehamn', 'Iranshahr', 'Aljezur', 'Yunjinghong', 'Malayal', 'Devanhalli', 'Tymovskoye', 'Hamilton', 'Kolda', 'Terrace', 'Lavrentiya', 'Hambantota', 'Balykshi', 'Tres Arroyos', 'Mananjary', 'Bambanglipuro', 'Labuan', 'Pacific Grove', 'San Andres', 'Russell', 'Kochubey', 'Prince Rupert', 'Strezhevoy', 'Sidi Ali', 'Tortosa', 'Talnakh', 'Biak', 'New Glasgow']\n",
      "['Mayor Pablo Lagerenza', 'Ambovombe', 'Tiznit', 'Uttiramerur', 'Les Cayes', 'Santa Maria', 'Saint-Francois', 'Omboue', 'Lesnoy', 'Bosaso', 'Peruibe', 'Kaputa', 'Poli', 'Key West', 'Flinders', 'San Pedro', 'Xucheng', 'Riohacha', 'Qaqortoq', 'Moissac', 'Vardo', 'Rio Grande', 'Curup', 'Dossor']\n"
     ]
    }
   ],
   "source": [
    "city_sets = [cities[i:i + 50] for i in range(0, len(cities), 50)]  \n",
    "for city_set in city_sets:\n",
    "    print(city_set)"
   ]
  },
  {
   "cell_type": "code",
   "execution_count": 77,
   "metadata": {},
   "outputs": [
    {
     "data": {
      "text/html": [
       "<div>\n",
       "<style scoped>\n",
       "    .dataframe tbody tr th:only-of-type {\n",
       "        vertical-align: middle;\n",
       "    }\n",
       "\n",
       "    .dataframe tbody tr th {\n",
       "        vertical-align: top;\n",
       "    }\n",
       "\n",
       "    .dataframe thead th {\n",
       "        text-align: right;\n",
       "    }\n",
       "</style>\n",
       "<table border=\"1\" class=\"dataframe\">\n",
       "  <thead>\n",
       "    <tr style=\"text-align: right;\">\n",
       "      <th></th>\n",
       "      <th>City</th>\n",
       "      <th>Lat</th>\n",
       "      <th>Lng</th>\n",
       "      <th>Max Temp</th>\n",
       "      <th>Humidity</th>\n",
       "      <th>Cloudiness</th>\n",
       "      <th>Wind Speed</th>\n",
       "      <th>Country</th>\n",
       "    </tr>\n",
       "  </thead>\n",
       "  <tbody>\n",
       "  </tbody>\n",
       "</table>\n",
       "</div>"
      ],
      "text/plain": [
       "Empty DataFrame\n",
       "Columns: [City, Lat, Lng, Max Temp, Humidity, Cloudiness, Wind Speed, Country]\n",
       "Index: []"
      ]
     },
     "execution_count": 77,
     "metadata": {},
     "output_type": "execute_result"
    }
   ],
   "source": [
    "weather_data_all.loc[weather_data_all[\"Humidity\"] > 100]"
   ]
  },
  {
   "cell_type": "code",
   "execution_count": 76,
   "metadata": {},
   "outputs": [
    {
     "data": {
      "text/html": [
       "<div>\n",
       "<style scoped>\n",
       "    .dataframe tbody tr th:only-of-type {\n",
       "        vertical-align: middle;\n",
       "    }\n",
       "\n",
       "    .dataframe tbody tr th {\n",
       "        vertical-align: top;\n",
       "    }\n",
       "\n",
       "    .dataframe thead th {\n",
       "        text-align: right;\n",
       "    }\n",
       "</style>\n",
       "<table border=\"1\" class=\"dataframe\">\n",
       "  <thead>\n",
       "    <tr style=\"text-align: right;\">\n",
       "      <th></th>\n",
       "      <th>City</th>\n",
       "      <th>Lat</th>\n",
       "      <th>Lng</th>\n",
       "      <th>Max Temp</th>\n",
       "      <th>Humidity</th>\n",
       "      <th>Cloudiness</th>\n",
       "      <th>Wind Speed</th>\n",
       "      <th>Country</th>\n",
       "    </tr>\n",
       "  </thead>\n",
       "  <tbody>\n",
       "    <tr>\n",
       "      <th>0</th>\n",
       "      <td>Kavieng</td>\n",
       "      <td>-2.57</td>\n",
       "      <td>150.80</td>\n",
       "      <td>83.66</td>\n",
       "      <td>71</td>\n",
       "      <td>100</td>\n",
       "      <td>6.69</td>\n",
       "      <td>PG</td>\n",
       "    </tr>\n",
       "    <tr>\n",
       "      <th>1</th>\n",
       "      <td>Garmsar</td>\n",
       "      <td>35.22</td>\n",
       "      <td>52.34</td>\n",
       "      <td>52.95</td>\n",
       "      <td>34</td>\n",
       "      <td>0</td>\n",
       "      <td>2.01</td>\n",
       "      <td>IR</td>\n",
       "    </tr>\n",
       "    <tr>\n",
       "      <th>2</th>\n",
       "      <td>Khatanga</td>\n",
       "      <td>71.97</td>\n",
       "      <td>102.50</td>\n",
       "      <td>3.90</td>\n",
       "      <td>90</td>\n",
       "      <td>15</td>\n",
       "      <td>8.14</td>\n",
       "      <td>RU</td>\n",
       "    </tr>\n",
       "    <tr>\n",
       "      <th>3</th>\n",
       "      <td>Leh</td>\n",
       "      <td>34.17</td>\n",
       "      <td>77.58</td>\n",
       "      <td>35.10</td>\n",
       "      <td>64</td>\n",
       "      <td>0</td>\n",
       "      <td>3.58</td>\n",
       "      <td>IN</td>\n",
       "    </tr>\n",
       "    <tr>\n",
       "      <th>4</th>\n",
       "      <td>Butaritari</td>\n",
       "      <td>3.07</td>\n",
       "      <td>172.79</td>\n",
       "      <td>82.58</td>\n",
       "      <td>78</td>\n",
       "      <td>13</td>\n",
       "      <td>21.07</td>\n",
       "      <td>KI</td>\n",
       "    </tr>\n",
       "    <tr>\n",
       "      <th>...</th>\n",
       "      <td>...</td>\n",
       "      <td>...</td>\n",
       "      <td>...</td>\n",
       "      <td>...</td>\n",
       "      <td>...</td>\n",
       "      <td>...</td>\n",
       "      <td>...</td>\n",
       "      <td>...</td>\n",
       "    </tr>\n",
       "    <tr>\n",
       "      <th>92</th>\n",
       "      <td>Saint-Pierre</td>\n",
       "      <td>-21.34</td>\n",
       "      <td>55.48</td>\n",
       "      <td>69.80</td>\n",
       "      <td>68</td>\n",
       "      <td>6</td>\n",
       "      <td>3.36</td>\n",
       "      <td>PM</td>\n",
       "    </tr>\n",
       "    <tr>\n",
       "      <th>93</th>\n",
       "      <td>Aripuana</td>\n",
       "      <td>-9.17</td>\n",
       "      <td>-60.63</td>\n",
       "      <td>82.83</td>\n",
       "      <td>55</td>\n",
       "      <td>63</td>\n",
       "      <td>1.57</td>\n",
       "      <td>BR</td>\n",
       "    </tr>\n",
       "    <tr>\n",
       "      <th>94</th>\n",
       "      <td>Sulechow</td>\n",
       "      <td>52.08</td>\n",
       "      <td>15.63</td>\n",
       "      <td>45.00</td>\n",
       "      <td>42</td>\n",
       "      <td>93</td>\n",
       "      <td>7.85</td>\n",
       "      <td>PL</td>\n",
       "    </tr>\n",
       "    <tr>\n",
       "      <th>95</th>\n",
       "      <td>Sampit</td>\n",
       "      <td>-2.53</td>\n",
       "      <td>112.95</td>\n",
       "      <td>74.57</td>\n",
       "      <td>94</td>\n",
       "      <td>96</td>\n",
       "      <td>2.37</td>\n",
       "      <td>ID</td>\n",
       "    </tr>\n",
       "    <tr>\n",
       "      <th>96</th>\n",
       "      <td>Norman Wells</td>\n",
       "      <td>65.28</td>\n",
       "      <td>-126.83</td>\n",
       "      <td>23.00</td>\n",
       "      <td>57</td>\n",
       "      <td>5</td>\n",
       "      <td>10.29</td>\n",
       "      <td>CA</td>\n",
       "    </tr>\n",
       "  </tbody>\n",
       "</table>\n",
       "<p>97 rows × 8 columns</p>\n",
       "</div>"
      ],
      "text/plain": [
       "            City    Lat     Lng  Max Temp  Humidity  Cloudiness  Wind Speed  \\\n",
       "0        Kavieng  -2.57  150.80     83.66        71         100        6.69   \n",
       "1        Garmsar  35.22   52.34     52.95        34           0        2.01   \n",
       "2       Khatanga  71.97  102.50      3.90        90          15        8.14   \n",
       "3            Leh  34.17   77.58     35.10        64           0        3.58   \n",
       "4     Butaritari   3.07  172.79     82.58        78          13       21.07   \n",
       "..           ...    ...     ...       ...       ...         ...         ...   \n",
       "92  Saint-Pierre -21.34   55.48     69.80        68           6        3.36   \n",
       "93      Aripuana  -9.17  -60.63     82.83        55          63        1.57   \n",
       "94      Sulechow  52.08   15.63     45.00        42          93        7.85   \n",
       "95        Sampit  -2.53  112.95     74.57        94          96        2.37   \n",
       "96  Norman Wells  65.28 -126.83     23.00        57           5       10.29   \n",
       "\n",
       "   Country  \n",
       "0       PG  \n",
       "1       IR  \n",
       "2       RU  \n",
       "3       IN  \n",
       "4       KI  \n",
       "..     ...  \n",
       "92      PM  \n",
       "93      BR  \n",
       "94      PL  \n",
       "95      ID  \n",
       "96      CA  \n",
       "\n",
       "[97 rows x 8 columns]"
      ]
     },
     "execution_count": 76,
     "metadata": {},
     "output_type": "execute_result"
    }
   ],
   "source": [
    "test_clean = weather_data_all[weather_data_all[\"Humidity\"] <= 100]\n",
    "test_clean"
   ]
  },
  {
   "cell_type": "code",
   "execution_count": 78,
   "metadata": {},
   "outputs": [],
   "source": [
    "x_values = weather_data_all.iloc[:,[1]]\n",
    "y_values = weather_data_all.iloc[:,[3]]"
   ]
  },
  {
   "cell_type": "code",
   "execution_count": 79,
   "metadata": {},
   "outputs": [
    {
     "data": {
      "text/html": [
       "<div>\n",
       "<style scoped>\n",
       "    .dataframe tbody tr th:only-of-type {\n",
       "        vertical-align: middle;\n",
       "    }\n",
       "\n",
       "    .dataframe tbody tr th {\n",
       "        vertical-align: top;\n",
       "    }\n",
       "\n",
       "    .dataframe thead th {\n",
       "        text-align: right;\n",
       "    }\n",
       "</style>\n",
       "<table border=\"1\" class=\"dataframe\">\n",
       "  <thead>\n",
       "    <tr style=\"text-align: right;\">\n",
       "      <th></th>\n",
       "      <th>Lat</th>\n",
       "    </tr>\n",
       "  </thead>\n",
       "  <tbody>\n",
       "    <tr>\n",
       "      <th>0</th>\n",
       "      <td>-2.57</td>\n",
       "    </tr>\n",
       "    <tr>\n",
       "      <th>1</th>\n",
       "      <td>35.22</td>\n",
       "    </tr>\n",
       "    <tr>\n",
       "      <th>2</th>\n",
       "      <td>71.97</td>\n",
       "    </tr>\n",
       "    <tr>\n",
       "      <th>3</th>\n",
       "      <td>34.17</td>\n",
       "    </tr>\n",
       "    <tr>\n",
       "      <th>4</th>\n",
       "      <td>3.07</td>\n",
       "    </tr>\n",
       "    <tr>\n",
       "      <th>...</th>\n",
       "      <td>...</td>\n",
       "    </tr>\n",
       "    <tr>\n",
       "      <th>92</th>\n",
       "      <td>-21.34</td>\n",
       "    </tr>\n",
       "    <tr>\n",
       "      <th>93</th>\n",
       "      <td>-9.17</td>\n",
       "    </tr>\n",
       "    <tr>\n",
       "      <th>94</th>\n",
       "      <td>52.08</td>\n",
       "    </tr>\n",
       "    <tr>\n",
       "      <th>95</th>\n",
       "      <td>-2.53</td>\n",
       "    </tr>\n",
       "    <tr>\n",
       "      <th>96</th>\n",
       "      <td>65.28</td>\n",
       "    </tr>\n",
       "  </tbody>\n",
       "</table>\n",
       "<p>97 rows × 1 columns</p>\n",
       "</div>"
      ],
      "text/plain": [
       "      Lat\n",
       "0   -2.57\n",
       "1   35.22\n",
       "2   71.97\n",
       "3   34.17\n",
       "4    3.07\n",
       "..    ...\n",
       "92 -21.34\n",
       "93  -9.17\n",
       "94  52.08\n",
       "95  -2.53\n",
       "96  65.28\n",
       "\n",
       "[97 rows x 1 columns]"
      ]
     },
     "execution_count": 79,
     "metadata": {},
     "output_type": "execute_result"
    }
   ],
   "source": [
    "x_values"
   ]
  },
  {
   "cell_type": "code",
   "execution_count": 80,
   "metadata": {},
   "outputs": [
    {
     "data": {
      "text/html": [
       "<div>\n",
       "<style scoped>\n",
       "    .dataframe tbody tr th:only-of-type {\n",
       "        vertical-align: middle;\n",
       "    }\n",
       "\n",
       "    .dataframe tbody tr th {\n",
       "        vertical-align: top;\n",
       "    }\n",
       "\n",
       "    .dataframe thead th {\n",
       "        text-align: right;\n",
       "    }\n",
       "</style>\n",
       "<table border=\"1\" class=\"dataframe\">\n",
       "  <thead>\n",
       "    <tr style=\"text-align: right;\">\n",
       "      <th></th>\n",
       "      <th>Max Temp</th>\n",
       "    </tr>\n",
       "  </thead>\n",
       "  <tbody>\n",
       "    <tr>\n",
       "      <th>0</th>\n",
       "      <td>83.66</td>\n",
       "    </tr>\n",
       "    <tr>\n",
       "      <th>1</th>\n",
       "      <td>52.95</td>\n",
       "    </tr>\n",
       "    <tr>\n",
       "      <th>2</th>\n",
       "      <td>3.90</td>\n",
       "    </tr>\n",
       "    <tr>\n",
       "      <th>3</th>\n",
       "      <td>35.10</td>\n",
       "    </tr>\n",
       "    <tr>\n",
       "      <th>4</th>\n",
       "      <td>82.58</td>\n",
       "    </tr>\n",
       "    <tr>\n",
       "      <th>...</th>\n",
       "      <td>...</td>\n",
       "    </tr>\n",
       "    <tr>\n",
       "      <th>92</th>\n",
       "      <td>69.80</td>\n",
       "    </tr>\n",
       "    <tr>\n",
       "      <th>93</th>\n",
       "      <td>82.83</td>\n",
       "    </tr>\n",
       "    <tr>\n",
       "      <th>94</th>\n",
       "      <td>45.00</td>\n",
       "    </tr>\n",
       "    <tr>\n",
       "      <th>95</th>\n",
       "      <td>74.57</td>\n",
       "    </tr>\n",
       "    <tr>\n",
       "      <th>96</th>\n",
       "      <td>23.00</td>\n",
       "    </tr>\n",
       "  </tbody>\n",
       "</table>\n",
       "<p>97 rows × 1 columns</p>\n",
       "</div>"
      ],
      "text/plain": [
       "    Max Temp\n",
       "0      83.66\n",
       "1      52.95\n",
       "2       3.90\n",
       "3      35.10\n",
       "4      82.58\n",
       "..       ...\n",
       "92     69.80\n",
       "93     82.83\n",
       "94     45.00\n",
       "95     74.57\n",
       "96     23.00\n",
       "\n",
       "[97 rows x 1 columns]"
      ]
     },
     "execution_count": 80,
     "metadata": {},
     "output_type": "execute_result"
    }
   ],
   "source": [
    "y_values"
   ]
  },
  {
   "cell_type": "code",
   "execution_count": 81,
   "metadata": {},
   "outputs": [
    {
     "data": {
      "text/plain": [
       "<matplotlib.collections.PathCollection at 0x20760f07948>"
      ]
     },
     "execution_count": 81,
     "metadata": {},
     "output_type": "execute_result"
    },
    {
     "data": {
      "image/png": "[encoded data removed]",
      "text/plain": [
       "<Figure size 432x288 with 1 Axes>"
      ]
     },
     "metadata": {
      "needs_background": "light"
     },
     "output_type": "display_data"
    }
   ],
   "source": [
    "plt.scatter(x_values,y_values)"
   ]
  },
  {
   "cell_type": "code",
   "execution_count": 86,
   "metadata": {
    "run_control": {
     "marked": false
    }
   },
   "outputs": [],
   "source": [
    "x_values = weather_data_all.loc[weather_data_all[\"Lat\"] >= 0,[\"Lat\"]]\n",
    "y_values = weather_data_all.loc[weather_data_all[\"Lat\"] >= 0,[\"Max Temp\"]]"
   ]
  },
  {
   "cell_type": "code",
   "execution_count": 87,
   "metadata": {},
   "outputs": [
    {
     "data": {
      "text/plain": [
       "<matplotlib.collections.PathCollection at 0x2076128f908>"
      ]
     },
     "execution_count": 87,
     "metadata": {},
     "output_type": "execute_result"
    },
    {
     "data": {
      "image/png": "[encoded data removed]",
      "text/plain": [
       "<Figure size 432x288 with 1 Axes>"
      ]
     },
     "metadata": {
      "needs_background": "light"
     },
     "output_type": "display_data"
    }
   ],
   "source": [
    "plt.scatter(x_values,y_values)"
   ]
  },
  {
   "cell_type": "code",
   "execution_count": 88,
   "metadata": {},
   "outputs": [],
   "source": [
    "x_values = weather_data_all.loc[weather_data_all[\"Lat\"] < 0,[\"Lat\"]]\n",
    "y_values = weather_data_all.loc[weather_data_all[\"Lat\"] < 0,[\"Max Temp\"]]"
   ]
  },
  {
   "cell_type": "code",
   "execution_count": 89,
   "metadata": {},
   "outputs": [
    {
     "data": {
      "text/plain": [
       "<matplotlib.collections.PathCollection at 0x20761338dc8>"
      ]
     },
     "execution_count": 89,
     "metadata": {},
     "output_type": "execute_result"
    },
    {
     "data": {
      "image/png": "[encoded data removed]",
      "text/plain": [
       "<Figure size 432x288 with 1 Axes>"
      ]
     },
     "metadata": {
      "needs_background": "light"
     },
     "output_type": "display_data"
    }
   ],
   "source": [
    "plt.scatter(x_values,y_values)"
   ]
  },
  {
   "cell_type": "code",
   "execution_count": 91,
   "metadata": {},
   "outputs": [],
   "source": [
    "?linregress"
   ]
  },
  {
   "cell_type": "code",
   "execution_count": 92,
   "metadata": {},
   "outputs": [],
   "source": [
    "CEND      = '\\33[0m'\n",
    "CBOLD     = '\\33[1m'\n",
    "CITALIC   = '\\33[3m'\n",
    "CURL      = '\\33[4m'\n",
    "CBLINK    = '\\33[5m'\n",
    "CBLINK2   = '\\33[6m'\n",
    "CSELECTED = '\\33[7m'\n",
    "\n",
    "CBLACK  = '\\33[30m'\n",
    "CRED    = '\\33[31m'\n",
    "CGREEN  = '\\33[32m'\n",
    "CYELLOW = '\\33[33m'\n",
    "CBLUE   = '\\33[34m'\n",
    "CVIOLET = '\\33[35m'\n",
    "CBEIGE  = '\\33[36m'\n",
    "CWHITE  = '\\33[37m'\n",
    "\n",
    "CBLACKBG  = '\\33[40m'\n",
    "CREDBG    = '\\33[41m'\n",
    "CGREENBG  = '\\33[42m'\n",
    "CYELLOWBG = '\\33[43m'\n",
    "CBLUEBG   = '\\33[44m'\n",
    "CVIOLETBG = '\\33[45m'\n",
    "CBEIGEBG  = '\\33[46m'\n",
    "CWHITEBG  = '\\33[47m'\n",
    "\n",
    "CGREY    = '\\33[90m'\n",
    "CRED2    = '\\33[91m'\n",
    "CGREEN2  = '\\33[92m'\n",
    "CYELLOW2 = '\\33[93m'\n",
    "CBLUE2   = '\\33[94m'\n",
    "CVIOLET2 = '\\33[95m'\n",
    "CBEIGE2  = '\\33[96m'\n",
    "CWHITE2  = '\\33[97m'\n",
    "\n",
    "CGREYBG    = '\\33[100m'\n",
    "CREDBG2    = '\\33[101m'\n",
    "CGREENBG2  = '\\33[102m'\n",
    "CYELLOWBG2 = '\\33[103m'\n",
    "CBLUEBG2   = '\\33[104m'\n",
    "CVIOLETBG2 = '\\33[105m'\n",
    "CBEIGEBG2  = '\\33[106m'\n",
    "CWHITEBG2  = '\\33[107m'"
   ]
  },
  {
   "cell_type": "code",
   "execution_count": 93,
   "metadata": {},
   "outputs": [
    {
     "name": "stdout",
     "output_type": "stream",
     "text": [
      "\u001b[0m\\33[0m\u001b[0m \u001b[1m\\33[1m\u001b[0m \u001b[2m\\33[2m\u001b[0m \u001b[3m\\33[3m\u001b[0m \u001b[4m\\33[4m\u001b[0m \n",
      "\u001b[5m\\33[5m\u001b[0m \u001b[6m\\33[6m\u001b[0m \u001b[7m\\33[7m\u001b[0m \u001b[8m\\33[8m\u001b[0m \u001b[9m\\33[9m\u001b[0m \n",
      "\u001b[10m\\33[10m\u001b[0m \u001b[11m\\33[11m\u001b[0m \u001b[12m\\33[12m\u001b[0m \u001b[13m\\33[13m\u001b[0m \u001b[14m\\33[14m\u001b[0m \n",
      "\u001b[15m\\33[15m\u001b[0m \u001b[16m\\33[16m\u001b[0m \u001b[17m\\33[17m\u001b[0m \u001b[18m\\33[18m\u001b[0m \u001b[19m\\33[19m\u001b[0m \n",
      "\u001b[20m\\33[20m\u001b[0m \u001b[21m\\33[21m\u001b[0m \u001b[22m\\33[22m\u001b[0m \u001b[23m\\33[23m\u001b[0m \u001b[24m\\33[24m\u001b[0m \n",
      "\u001b[25m\\33[25m\u001b[0m \u001b[26m\\33[26m\u001b[0m \u001b[27m\\33[27m\u001b[0m \u001b[28m\\33[28m\u001b[0m \u001b[29m\\33[29m\u001b[0m \n",
      "\u001b[30m\\33[30m\u001b[0m \u001b[31m\\33[31m\u001b[0m \u001b[32m\\33[32m\u001b[0m \u001b[33m\\33[33m\u001b[0m \u001b[34m\\33[34m\u001b[0m \n",
      "\u001b[35m\\33[35m\u001b[0m \u001b[36m\\33[36m\u001b[0m \u001b[37m\\33[37m\u001b[0m \u001b[38m\\33[38m\u001b[0m \u001b[39m\\33[39m\u001b[0m \n",
      "\u001b[40m\\33[40m\u001b[0m \u001b[41m\\33[41m\u001b[0m \u001b[42m\\33[42m\u001b[0m \u001b[43m\\33[43m\u001b[0m \u001b[44m\\33[44m\u001b[0m \n",
      "\u001b[45m\\33[45m\u001b[0m \u001b[46m\\33[46m\u001b[0m \u001b[47m\\33[47m\u001b[0m \u001b[48m\\33[48m\u001b[0m \u001b[49m\\33[49m\u001b[0m \n",
      "\u001b[50m\\33[50m\u001b[0m \u001b[51m\\33[51m\u001b[0m \u001b[52m\\33[52m\u001b[0m \u001b[53m\\33[53m\u001b[0m \u001b[54m\\33[54m\u001b[0m \n",
      "\u001b[55m\\33[55m\u001b[0m \u001b[56m\\33[56m\u001b[0m \u001b[57m\\33[57m\u001b[0m \u001b[58m\\33[58m\u001b[0m \u001b[59m\\33[59m\u001b[0m \n",
      "\u001b[60m\\33[60m\u001b[0m \u001b[61m\\33[61m\u001b[0m \u001b[62m\\33[62m\u001b[0m \u001b[63m\\33[63m\u001b[0m \u001b[64m\\33[64m\u001b[0m \n",
      "\u001b[65m\\33[65m\u001b[0m \u001b[66m\\33[66m\u001b[0m \u001b[67m\\33[67m\u001b[0m \u001b[68m\\33[68m\u001b[0m \u001b[69m\\33[69m\u001b[0m \n",
      "\u001b[70m\\33[70m\u001b[0m \u001b[71m\\33[71m\u001b[0m \u001b[72m\\33[72m\u001b[0m \u001b[73m\\33[73m\u001b[0m \u001b[74m\\33[74m\u001b[0m \n",
      "\u001b[75m\\33[75m\u001b[0m \u001b[76m\\33[76m\u001b[0m \u001b[77m\\33[77m\u001b[0m \u001b[78m\\33[78m\u001b[0m \u001b[79m\\33[79m\u001b[0m \n",
      "\u001b[80m\\33[80m\u001b[0m \u001b[81m\\33[81m\u001b[0m \u001b[82m\\33[82m\u001b[0m \u001b[83m\\33[83m\u001b[0m \u001b[84m\\33[84m\u001b[0m \n",
      "\u001b[85m\\33[85m\u001b[0m \u001b[86m\\33[86m\u001b[0m \u001b[87m\\33[87m\u001b[0m \u001b[88m\\33[88m\u001b[0m \u001b[89m\\33[89m\u001b[0m \n",
      "\u001b[90m\\33[90m\u001b[0m \u001b[91m\\33[91m\u001b[0m \u001b[92m\\33[92m\u001b[0m \u001b[93m\\33[93m\u001b[0m \u001b[94m\\33[94m\u001b[0m \n",
      "\u001b[95m\\33[95m\u001b[0m \u001b[96m\\33[96m\u001b[0m \u001b[97m\\33[97m\u001b[0m \u001b[98m\\33[98m\u001b[0m \u001b[99m\\33[99m\u001b[0m \n",
      "\u001b[100m\\33[100m\u001b[0m \u001b[101m\\33[101m\u001b[0m \u001b[102m\\33[102m\u001b[0m \u001b[103m\\33[103m\u001b[0m \u001b[104m\\33[104m\u001b[0m \n",
      "\u001b[105m\\33[105m\u001b[0m \u001b[106m\\33[106m\u001b[0m \u001b[107m\\33[107m\u001b[0m \u001b[108m\\33[108m\u001b[0m \u001b[109m\\33[109m\u001b[0m \n",
      "\u001b[110m\\33[110m\u001b[0m \u001b[111m\\33[111m\u001b[0m \u001b[112m\\33[112m\u001b[0m \u001b[113m\\33[113m\u001b[0m \u001b[114m\\33[114m\u001b[0m \n",
      "\u001b[115m\\33[115m\u001b[0m \u001b[116m\\33[116m\u001b[0m \u001b[117m\\33[117m\u001b[0m \u001b[118m\\33[118m\u001b[0m \u001b[119m\\33[119m\u001b[0m \n"
     ]
    }
   ],
   "source": [
    "x = 0\n",
    "for i in range(24):\n",
    "  colors = \"\"\n",
    "  for j in range(5):\n",
    "    code = str(x+j)\n",
    "    colors = colors + \"\\33[\" + code + \"m\\\\33[\" + code + \"m\\033[0m \"\n",
    "  print(colors)\n",
    "  x=x+5"
   ]
  },
  {
   "cell_type": "code",
   "execution_count": null,
   "metadata": {},
   "outputs": [],
   "source": []
  }
 ],
 "metadata": {
  "hide_input": false,
  "kernelspec": {
   "display_name": "Python 3",
   "language": "python",
   "name": "python3"
  },
  "language_info": {
   "codemirror_mode": {
    "name": "ipython",
    "version": 3
   },
   "file_extension": ".py",
   "mimetype": "text/x-python",
   "name": "python",
   "nbconvert_exporter": "python",
   "pygments_lexer": "ipython3",
   "version": "3.7.9"
  },
  "toc": {
   "base_numbering": 1,
   "nav_menu": {},
   "number_sections": true,
   "sideBar": true,
   "skip_h1_title": false,
   "title_cell": "Table of Contents",
   "title_sidebar": "Contents",
   "toc_cell": false,
   "toc_position": {},
   "toc_section_display": true,
   "toc_window_display": false
  },
  "varInspector": {
   "cols": {
    "lenName": 16,
    "lenType": 16,
    "lenVar": 40
   },
   "kernels_config": {
    "python": {
     "delete_cmd_postfix": "",
     "delete_cmd_prefix": "del ",
     "library": "var_list.py",
     "varRefreshCmd": "print(var_dic_list())"
    },
    "r": {
     "delete_cmd_postfix": ") ",
     "delete_cmd_prefix": "rm(",
     "library": "var_list.r",
     "varRefreshCmd": "cat(var_dic_list()) "
    }
   },
   "types_to_exclude": [
    "module",
    "function",
    "builtin_function_or_method",
    "instance",
    "_Feature"
   ],
   "window_display": false
  }
 },
 "nbformat": 4,
 "nbformat_minor": 4
}
